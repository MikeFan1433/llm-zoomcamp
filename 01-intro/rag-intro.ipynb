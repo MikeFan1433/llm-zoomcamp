{
 "cells": [
  {
   "cell_type": "code",
   "execution_count": 7,
   "id": "980c0bbb-968c-4110-8c24-a51ca13fe54d",
   "metadata": {},
   "outputs": [],
   "source": [
    "import pandas as pd \n",
    "import numpy as np\n",
    "import openai\n",
    "from openai import OpenAI\n",
    "import os"
   ]
  },
  {
   "cell_type": "code",
   "execution_count": null,
   "id": "9482ce8a",
   "metadata": {},
   "outputs": [],
   "source": [
    "os.environ[\"OPENAI_API_KEY\"] = \"<API KEY>\""
   ]
  },
  {
   "cell_type": "code",
   "execution_count": 10,
   "id": "5278fce6-80a3-4be1-9b20-3010b9ca4d9f",
   "metadata": {},
   "outputs": [],
   "source": [
    "client = OpenAI()"
   ]
  },
  {
   "cell_type": "code",
   "execution_count": 11,
   "id": "e6471cb0-4d7c-4185-a34a-798350fb7b91",
   "metadata": {},
   "outputs": [],
   "source": [
    "# Try open ai chat api\n",
    "response = client.chat.completions.create(\n",
    "    model = 'gpt-4o',\n",
    "    messages = [{'role':'user', 'content':'Tell me what is AI'}])"
   ]
  },
  {
   "cell_type": "code",
   "execution_count": 13,
   "id": "b8c29be5-9ad9-4439-92ba-6f2fa0757b0f",
   "metadata": {},
   "outputs": [
    {
     "data": {
      "text/plain": [
       "'Artificial intelligence (AI) refers to the simulation of human intelligence in machines that are programmed to think and learn like humans. The term can be used to describe any machine that exhibits traits associated with a human mind, such as learning, reasoning, problem-solving, perception, language understanding, and even creativity.\\n\\nAI can be categorized into various types based on its capabilities:\\n\\n1. **Narrow AI (Weak AI)**: This type of AI is designed to perform a narrow task (e.g., facial recognition, internet searches, or driving a car). While it can outperform humans in specific tasks, it operates under a limited set of constraints and does not possess general intelligence.\\n   \\n2. **General AI (Strong AI)**: This form of AI would possess the ability to understand, learn, and apply intelligence in a manner equivalent to a human. It does not yet exist but remains a key goal for researchers.\\n\\n3. **Superintelligent AI**: This hypothetical form of AI would surpass human intelligence and capability across any field. Its development is still theoretical and raises various ethical and existential questions.\\n\\nAI systems are built upon various technologies and methods, including:\\n\\n- **Machine Learning (ML)**: A subset of AI that involves the development of algorithms that allow computers to learn from and make predictions or decisions based on data. This includes supervised, unsupervised, and reinforcement learning.\\n\\n- **Deep Learning**: A specialized form of machine learning involving neural networks with many layers (hence \"deep\"). This approach is particularly successful in areas such as image and speech recognition.\\n\\n- **Natural Language Processing (NLP)**: The field of AI that focuses on the interaction between computers and humans through natural language, enabling machines to read, understand, and respond to human language in a valuable way.\\n\\n- **Computer Vision**: The domain of AI focused on enabling machines to interpret and make decisions based on visual data from the world.\\n\\nAI has diverse applications, including healthcare, finance, transportation, customer service, and more. Its rapid advancement raises important considerations about ethics, bias, privacy, and employment, which are actively being discussed and addressed by researchers, policymakers, and ethicists.'"
      ]
     },
     "execution_count": 13,
     "metadata": {},
     "output_type": "execute_result"
    }
   ],
   "source": [
    "response.choices[0].message.content"
   ]
  },
  {
   "cell_type": "code",
   "execution_count": null,
   "id": "f1b249b0",
   "metadata": {},
   "outputs": [],
   "source": []
  }
 ],
 "metadata": {
  "kernelspec": {
   "display_name": "Python 3",
   "language": "python",
   "name": "python3"
  },
  "language_info": {
   "codemirror_mode": {
    "name": "ipython",
    "version": 3
   },
   "file_extension": ".py",
   "mimetype": "text/x-python",
   "name": "python",
   "nbconvert_exporter": "python",
   "pygments_lexer": "ipython3",
   "version": "3.12.1"
  }
 },
 "nbformat": 4,
 "nbformat_minor": 5
}
